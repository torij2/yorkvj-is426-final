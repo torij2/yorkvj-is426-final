{
 "cells": [
  {
   "cell_type": "code",
   "execution_count": null,
   "id": "812e3dc1-dc8b-4057-924c-d2c32b33cd40",
   "metadata": {},
   "outputs": [],
   "source": [
    "import csv, json, requests  \n",
    "fn2 = 'station.csv'\n",
    "f2 = open(fn2, 'w', newline = '')\n",
    "f2.write('')\n",
    "f2.close()\n",
    "f2 = open(fn2, 'a', newline = '')\n",
    "writer = csv.writer(f2)\n",
    "header = ['station id', 'name', 'lat', 'lon']\n",
    "writer.writerow(header)\n",
    "r1 = requests.get(f\"https://api.tidesandcurrents.noaa.gov/mdapi/prod/webapi/geogroups.json?type=ETIDES&lvl=7\")\n",
    "x = json.loads(r1.text)\n",
    "groupid = {}\n",
    "for location in x['geoGroupList']:\n",
    "    groupid[str(location['geoGroupName'])] = str(location['geoGroupId'])\n",
    "for gid in groupid.values():\n",
    "    r2 = requests.get(f\"https://api.tidesandcurrents.noaa.gov/mdapi/prod/webapi/geogroups/{gid}/children.json\")\n",
    "    x = json.loads(r2.text)\n",
    "    for station in x['stationList']:\n",
    "        if station['stationId'] is not None:\n",
    "            to_write = [station['stationId'], station['geoGroupName'], station['lat'], station['lon']]\n",
    "            writer.writerow(to_write)\n",
    "f2.close()\n"
   ]
  }
 ],
 "metadata": {
  "kernelspec": {
   "display_name": "Python 3 (ipykernel)",
   "language": "python",
   "name": "python3"
  },
  "language_info": {
   "codemirror_mode": {
    "name": "ipython",
    "version": 3
   },
   "file_extension": ".py",
   "mimetype": "text/x-python",
   "name": "python",
   "nbconvert_exporter": "python",
   "pygments_lexer": "ipython3",
   "version": "3.10.6"
  }
 },
 "nbformat": 4,
 "nbformat_minor": 5
}
