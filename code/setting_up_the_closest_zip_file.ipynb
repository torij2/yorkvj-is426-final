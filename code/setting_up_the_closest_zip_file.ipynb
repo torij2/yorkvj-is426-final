{
 "cells": [
  {
   "cell_type": "code",
   "execution_count": null,
   "id": "55594110-1d9e-4f69-bfdd-2704ee370265",
   "metadata": {},
   "outputs": [],
   "source": [
    "import csv, json \n",
    "from math import radians, cos, sin, asin, sqrt\n",
    "\n",
    "fn3 = 'closest_zip.csv'\n",
    "f3 = open(fn3, 'w')\n",
    "f3.write('')\n",
    "f3.close()\n",
    "f3 = open(fn3, 'a', newline = '')\n",
    "writer = csv.writer(f3)\n",
    "header = ['zip', 'station id', 'station name', 'station distance']\n",
    "writer.writerow(header)\n",
    "\n",
    "temp_zip = None\n",
    "station_name = None\n",
    "station_id = None \n",
    "\n",
    "with open('zipcode_file.csv') as f:\n",
    "    lines1 = [{k: str(v) for k, v in row.items()}\n",
    "        for row in csv.DictReader(f, skipinitialspace=True)]\n",
    "\n",
    "with open('station.csv') as f:\n",
    "    lines2 = [{k: str(v) for k, v in row.items()}\n",
    "        for row in csv.DictReader(f, skipinitialspace=True)]\n",
    "\n",
    "\n",
    "for zips in lines1:\n",
    "    distance = 1000000000000\n",
    "    temp_zip = None\n",
    "    station_name = None\n",
    "    station_id = None \n",
    "    for station in lines2:\n",
    "        lon1, lat1, lon2, lat2 = map(radians, [float(zips['LNG']), float(zips['LAT']), float(station['lon']), float(station['lat'])])\n",
    "        dlon = lon2 - lon1 \n",
    "        dlat = lat2 - lat1 \n",
    "        a = sin(dlat/2)**2 + cos(lat1) * cos(lat2) * sin(dlon/2)**2\n",
    "        c = 2 * asin(sqrt(a)) \n",
    "        r = 6371 \n",
    "        if (c * r) < distance: \n",
    "            distance = c * r\n",
    "            temp_zip = zips['ZIP']\n",
    "            station_name = station['name']\n",
    "            station_id = station['station id']\n",
    "    distance = distance / 1.609 #converting from km to miles \n",
    "    to_write = [temp_zip, station_id, station_name, distance]\n",
    "    writer.writerow(to_write)\n",
    "    \n",
    "f3.close()\n"
   ]
  }
 ],
 "metadata": {
  "kernelspec": {
   "display_name": "Python 3 (ipykernel)",
   "language": "python",
   "name": "python3"
  },
  "language_info": {
   "codemirror_mode": {
    "name": "ipython",
    "version": 3
   },
   "file_extension": ".py",
   "mimetype": "text/x-python",
   "name": "python",
   "nbconvert_exporter": "python",
   "pygments_lexer": "ipython3",
   "version": "3.10.6"
  }
 },
 "nbformat": 4,
 "nbformat_minor": 5
}
