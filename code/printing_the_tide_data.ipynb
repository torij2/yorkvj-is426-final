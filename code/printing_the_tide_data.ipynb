{
 "cells": [
  {
   "cell_type": "code",
   "execution_count": null,
   "id": "045fb954-0716-4f8e-93d5-8680667257a8",
   "metadata": {},
   "outputs": [],
   "source": [
    "iimport csv, json, requests, datetime\n",
    "\n",
    "zip_code = input(\"Enter your zip code: \")\n",
    "\n",
    "with open('closest_zip.csv') as f:\n",
    "    lines = [{k: str(v) for k, v in row.items()}\n",
    "        for row in csv.DictReader(f, skipinitialspace=True)]\n",
    "\n",
    "station = None \n",
    "\n",
    "\n",
    "for line in lines:\n",
    "    if zip_code == line['zip']:\n",
    "        station = line['station id']\n",
    "        break\n",
    "\n",
    "if station == None:\n",
    "    print(\"Error: zip code does not exist\")\n",
    "else:\n",
    "    startdo = datetime.datetime.now()\n",
    "    startds = startdo.strftime(\"%Y%m%d\")\n",
    "    enddo = startdo + datetime.timedelta(days=3)\n",
    "    endds = enddo.strftime(\"%Y%m%d\")\n",
    "\n",
    "    r = requests.get(f'https://api.tidesandcurrents.noaa.gov/api/prod/datagetter?product=predictions&begin_date={startds}&end_date={endds}&datum=MLLW&station={station}&time_zone=lst_ldt&units=english&interval=hilo&format=json&application=NOS.COOPS.TAC.TidePred')\n",
    "    data = json.loads(r.text)\n",
    "    tide_type = None\n",
    "\n",
    "    for p in data['predictions']:\n",
    "        tidedto = datetime.datetime.strptime(p['t'],\"%Y-%m-%d %H:%M\")\n",
    "        if tidedto > startdo:\n",
    "            if p['type'] == 'L':\n",
    "                tide_type = 'low'\n",
    "            else:\n",
    "                tide_type = 'high'\n",
    "            print(\"The closest station is \" + line['station name'] + \" and is \" + line['station distance'] + \" miles away.\")\n",
    "            print(\"The next tide will happen at \" + p['t'] + \" and will be a \" + tide_type + \" tide. The water level will change by \" + p['v'] + \" feet.\")\n",
    "            break\n"
   ]
  }
 ],
 "metadata": {
  "kernelspec": {
   "display_name": "Python 3 (ipykernel)",
   "language": "python",
   "name": "python3"
  },
  "language_info": {
   "codemirror_mode": {
    "name": "ipython",
    "version": 3
   },
   "file_extension": ".py",
   "mimetype": "text/x-python",
   "name": "python",
   "nbconvert_exporter": "python",
   "pygments_lexer": "ipython3",
   "version": "3.10.6"
  }
 },
 "nbformat": 4,
 "nbformat_minor": 5
}
